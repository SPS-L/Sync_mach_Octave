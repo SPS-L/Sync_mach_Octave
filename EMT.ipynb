{
 "cells": [
  {
   "cell_type": "markdown",
   "id": "generous-pennsylvania",
   "metadata": {},
   "source": [
    "# Numerical simulation of short-circuit at the terminals of a synchronous generator in EMT\n",
    "\n",
    "This notebook is a companion to the course [Control and Operation of Electric Power Systems](https://sps.cut.ac.cy/courses/een452/). It is based on material from the courses delivered by Prof. Thierry Van Cutsem at the University of Liege.\n",
    "\n",
    "## Background\n",
    "\n",
    "**Network represented by a simple Thevenin equivalent:**\n",
    "\n",
    "- resistance $R_e$ and inductance $L_e$ in each phase\n",
    "- no magnetic coupling between phases, for simplicity\n",
    "\n",
    "**Machine:**\n",
    "\n",
    "- only the field winding $f$ in the $d$ axis\n",
    "- only one damper winding $q1$ in the $q$ axis\n",
    "- rotor speed $\\dot{\\theta}_r$ assumed constant\n",
    "  - the focus is on short-lasting electromagnetic transients\n",
    "- constant excitation voltage $V_f$\n",
    "  - it is assumed that the automatic voltage regulator hasn't time to react"
   ]
  },
  {
   "cell_type": "markdown",
   "id": "placed-cooking",
   "metadata": {},
   "source": [
    "<img src=\"img/sync_model.PNG\" width=\"600\">"
   ]
  },
  {
   "cell_type": "markdown",
   "id": "significant-flour",
   "metadata": {},
   "source": [
    "### Network equations\n",
    "\n",
    "\\begin{alignat*}{3}\n",
    "&v_{a}-e_{a}=R_{e} i_{a}+L_{e} \\frac{d i_{a}}{d t} \\quad &&\\text{ with }\\quad &&e_{a}=\\sqrt{2} E \\cos \\left(\\omega_{N} t+\\theta\\right) \\\\ \n",
    "&v_{b}-e_{b}=R_{e} i_{b}+L_{e} \\frac{d i_{b}}{d t} \\quad &&\\text{ with }\\quad &&e_{b}=\\sqrt{2} E \\cos \\left(\\omega_{N} t+\\theta-\\frac{2 \\pi}{3}\\right) \\\\ \n",
    "&v_{c}-e_{c}=R_{e} i_{c}+L_{e} \\frac{d i_{c}}{d t} \\quad &&\\text{ with }\\quad &&e_{c}=\\sqrt{2} E \\cos \\left(\\omega_{N} t+\\theta-\\frac{4 \\pi}{3}\\right)\n",
    "\\end{alignat*}"
   ]
  },
  {
   "cell_type": "markdown",
   "id": "promising-screen",
   "metadata": {},
   "source": [
    "### Park equations\n",
    "\n",
    "$$\\left[\\begin{array}{c}v_{d} \\\\ v_{q} \\\\ v_{o}\\end{array}\\right]=\\mathcal{P}\\left[\\begin{array}{c}v_{a} \\\\ v_{b} \\\\ v_{c}\\end{array}\\right] \\qquad\\left[\\begin{array}{c}i_{d} \\\\ i_{q} \\\\ i_{0}\\end{array}\\right]=\\mathcal{P}\\left[\\begin{array}{c}i_{a} \\\\ i_{b} \\\\ i_{c}\\end{array}\\right]$$\n",
    "\n",
    "where $$\\mathcal{P}=\\sqrt{\\frac{2}{3}}\\left[\\begin{array}{ccc}\\cos (\\theta_{r}) & \\cos \\left(\\theta_{r}-\\frac{2 \\pi}{3}\\right) & \\cos \\left(\\theta_{r}-\\frac{4 \\pi}{3}\\right) \\\\ \\sin (\\theta_{r}) & \\sin \\left(\\theta_{r}-\\frac{2 \\pi}{3}\\right) & \\sin \\left(\\theta_{r}-\\frac{4 \\pi}{3}\\right) \\\\ \\frac{1}{\\sqrt{2}} & \\frac{1}{\\sqrt{2}} & \\frac{1}{\\sqrt{2}}\\end{array}\\right]$$ is the Park transformation (power invariant version) and $\\theta_r = \\theta_r^o + \\omega_N t$."
   ]
  },
  {
   "cell_type": "markdown",
   "id": "tired-bobby",
   "metadata": {},
   "source": [
    "### Machine equations\n",
    "\n",
    "$$\\begin{aligned} \\psi_{d} &=L_{d d} i_{d}+L_{d f} i_{f} \\\\ \\psi_{q} &=L_{q q} i_{q}+L_{q q 1} i_{q 1} \\\\ \\psi_{0} &=L_{o o} i_{o} \\\\ \\psi_{f} &=L_{f f} i_{f}+L_{d f} i_{d} \\\\ \\psi_{q 1} &=L_{q 1 q 1} i_{q 1}+L_{q q 1} i_{q} \\\\ v_{d} &=-R_{a} i_{d}-\\dot{\\theta}_{r} \\psi_{q}-\\frac{d \\psi_{d}}{d t} \\\\ v_{q} &=-R_{a} i_{q}+\\dot{\\theta}_{r} \\psi_{d}-\\frac{d \\psi_{q}}{d t} \\\\ v_{0} &=-R_{a} i_{0}-\\frac{d \\psi_{0}}{d t} \\\\ V_{f} &=R_{f} i_{f}+\\frac{d \\psi_{f}}{d t} \\\\ 0 &=R_{q 1} i_{q 1}+\\frac{d \\psi_{q 1}}{d t} \\end{aligned}$$"
   ]
  },
  {
   "cell_type": "markdown",
   "id": "solid-bunny",
   "metadata": {},
   "source": [
    "### Remarks\n",
    "\n",
    "- The model is made up of Differential-Algebraic Equations (DAEs)\n",
    "- some of the variables and some of the equations could be eliminated but the additional computational effort of keeping all of them is negligible\n",
    "- $\\theta_r$ being known, the equations are linear with respect to the unknowns\n",
    "- some coefficients in these equations vary with time.\n",
    "\n",
    "### Equations in per unit\n",
    "\n",
    "**At the stator (a, b, c):**\n",
    "\n",
    "- base voltage $V_B$ = nominal RMS phase-to-neutral voltage (kV)\n",
    "- base power $S_B$ = single-phase apparent power (MVA)\n",
    "- base current $I_B = S_B/V_B$, base magnetic flux $\\psi_B = V_B/\\omega_N$, etc.\n",
    "\n",
    "**In each of the Park winding (d, q, o):**\n",
    "\n",
    "- base voltage = $V_B$\n",
    "- base power = $S_B$\n",
    "- base current = $I_B = S_B/V_B$, base flux = $\\psi_B = V_B/\\omega_N$, etc.\n",
    "\n",
    "The rotor variables and equations are also transformed in pu; the system is not detailed here.\n",
    "\n",
    "**After passing in per unit:**\n",
    "\n",
    "- $\\dot{\\theta}_r=1$ pu\n",
    "- each time derivative is multiplied by $1/\\omega_N$, since we keep the time t in seconds (not in pu)"
   ]
  },
  {
   "cell_type": "markdown",
   "id": "organic-island",
   "metadata": {},
   "source": [
    "\n",
    "**The equations become:**\n",
    "\n",
    "$$\\begin{aligned} \\frac{1}{\\omega_{N}} \\frac{d i_{a}}{d t} &=-\\frac{R_{e}}{L_{e}} i_{a}+\\frac{1}{L_{e}} v_{a}-\\frac{1}{L_{e}} e_{a} \\\\ \\frac{1}{\\omega_{N}} \\frac{d i_{b}}{d t} &=-\\frac{R_{e}}{L_{e}} i_{b}+\\frac{1}{L_{e}} v_{b}-\\frac{1}{L_{e}} e_{b} \\\\ \\frac{1}{\\omega_{N}} \\frac{d i_{c}}{d t} &=-\\frac{R_{e}}{L_{e}} i_{c}+\\frac{1}{L_{e}} v_{c}-\\frac{1}{L_{e}} e_{c} \\\\ 0 &=\\sqrt{\\frac{2}{3}}\\left[\\cos \\left(\\theta_{r}\\right) v_{a}+\\cos \\left(\\theta_{r}-\\frac{2 \\pi}{3}\\right) v_{b}+\\cos \\left(\\theta-\\frac{4 \\pi}{3}\\right) v_{c}\\right]-v_{d} \\\\ 0 &=\\sqrt{\\frac{2}{3}}\\left[\\sin \\left(\\theta_{r}\\right) v_{a}+\\sin \\left(\\theta_{r}-\\frac{2 \\pi}{3}\\right) v_{b}+\\sin \\left(\\theta_{r}-\\frac{4 \\pi}{3}\\right) v_{c}\\right]-v_{q} \\\\ 0 &=\\frac{1}{\\sqrt{3}}\\left(v_{a}+v_{b}+v_{c}\\right)-v_{o} \\\\ 0 &=\\sqrt{\\frac{2}{3}}\\left[\\cos \\left(\\theta_{r}\\right) i_{a}+\\cos \\left(\\theta_{r}-\\frac{2 \\pi}{3}\\right) i_{b}+\\cos \\left(\\theta_{r}-\\frac{4 \\pi}{3}\\right) i_{c}\\right]-i_{d} \\\\ 0 &=\\sqrt{\\frac{2}{3}}\\left[\\sin \\left(\\theta_{r}\\right) i_{a}+\\sin \\left(\\theta_{r}-\\frac{2 \\pi}{3}\\right) i_{b}+\\sin \\left(\\theta_{r}-\\frac{4 \\pi}{3}\\right) i_{c}\\right]-i_{q} \\\\ 0 &=\\frac{1}{\\sqrt{3}}\\left(i_{a}+i_{b}+i_{c}\\right)-i_{o} \\\\ 0 &=L_{d d} i_{d}+L_{d f} i_{f}-\\psi_{d} \\\\ 0 &=L_{q q} i_{q}+L_{q q 1} i_{q 1}-\\psi_{q} \\\\ 0 &=L_{f f} i_{f}+L_{d f} i_{d}-\\psi_{f} \\\\ 0 &=L_{q 1 q 1} i_{q 1}+L_{q q 1} i_{q}-\\psi_{q 1} \\\\ 0 &=L_{o o} i_{o}-\\psi_{o} \\\\ \\frac{1}{\\omega_{N}} \\frac{d \\psi_{d}}{d t} &=-R_{a} i_{d}-\\psi_{q}-v_{d} \\\\ \\frac{1}{\\omega_{N}} \\frac{d \\psi_{q}}{d t} &=-R_{a} i_{q}+\\psi_{d}-v_{q} \\\\ \\frac{1}{\\omega_{N}} \\frac{d \\psi_{f}}{d t} &=-R_{f} i_{f}+V_{f} \\\\ \\frac{1}{\\omega_{N}} \\frac{d \\psi_{q 1}}{d t} &=-R_{q 1} i_{q 1} \\\\ \\frac{1}{\\omega_{N}} \\frac{d \\psi_{0}}{d t} &=-R_{a} i_{o}-v_{o} \\end{aligned}$$\n",
    "\n",
    "### Variable - equations balance\n",
    "\n",
    "- 19 variables : $v_a,\\ v_b,\\ v_c,\\ i_a,\\ i_b,\\ i_c,\\ v_d,\\ v_q,\\ v_o,\\ i_d,\\ i_q,\\ i_o,\\ \\psi_d,\\ \\psi_q,\\ \\psi_o,\\ \\psi_f ,\\ \\psi_{q1},\\ i_f,\\ i_{q1}$\n",
    "- 19 equations"
   ]
  },
  {
   "cell_type": "markdown",
   "id": "amazing-issue",
   "metadata": {},
   "source": [
    "### In compact form:\n",
    "\n",
    "$$\\begin{aligned}\\left(1 / \\omega_{N}\\right) \\dot{\\boldsymbol x} &= \\boldsymbol A_{x x} \\boldsymbol x+\\boldsymbol A_{x y} \\boldsymbol y+\\boldsymbol u_{x} \\\\ \\boldsymbol 0 &=\\boldsymbol A_{y x} \\boldsymbol x+\\boldsymbol A_{y y} \\boldsymbol y+\\boldsymbol u_{y} \\end{aligned}$$\n",
    "\n",
    "where\n",
    "\n",
    "$\\begin{aligned} \\boldsymbol x &=\\left[i_{a}\\ i_{b}\\ i_{c}\\ \\psi_{d}\\ \\psi_{q}\\ \\psi_{f}\\ \\psi_{q 1}\\ \\psi_{o}\\right]^{T} \\\\ \\boldsymbol y &=\\left[v_{a}\\ v_{b}\\ v_{c}\\ v_{d}\\ v_{q}\\ v_{0}\\ i_{d}\\ i_{q}\\ i_{o}\\ i_{f}\\ i_{q 1}\\right]^{T} \\\\ \\boldsymbol{u}_{x}&=\\left[-\\frac{e_{a}}{L_{e}}\\ -\\frac{e_{b}}{L_{e}}\\ -\\frac{e_{c}}{L_{e}}\\  0\\ 0\\  \\mathrm{~V}_{f}\\  0\\ 0\\right]^{T} \\\\ \\boldsymbol{u}_{y}&=\\left[0 \\ 0 \\ 0 \\ 0 \\ 0 \\ 0 \\ 0 \\ 0 \\ 0 \\ 0 \\ 0\\right]^{T} \\end{aligned}$"
   ]
  },
  {
   "cell_type": "markdown",
   "id": "cathedral-coating",
   "metadata": {},
   "source": [
    "### Numerical solution of the DAEs\n",
    "\n",
    "To simulate the equations above over a time-horizon $T$, we need to discretise them and solve with an integration method. A popular numerical integration formula is the _Trapezoidal Method_:\n",
    "\n",
    "$$x_{k+1}=x_k+\\frac{h}{2}(\\dot{x}_{k+1}+\\dot{x}_k)$$\n",
    "\n",
    "Replacing in the compact form, gives:\n",
    "\n",
    "$$\\boldsymbol{x}_{k+1}=\\boldsymbol{x}_{k}+\\frac{h}{2} \\omega_{N} \\boldsymbol{A}_{x x} \\boldsymbol{x}_{k+1}+\\frac{h}{2} \\omega_{N} \\boldsymbol{A}_{x y} \\boldsymbol{y}_{k+1}+\\frac{h}{2} \\omega_{N} \\boldsymbol{u}_{x k+1}+\\frac{h}{2} \\dot{\\boldsymbol{x}}_{k}$$\n",
    "\n",
    "Dividing by $\\frac{h\\omega_N}{2}$ and rearranging the various terms:\n",
    "\n",
    "$$\\left[\\boldsymbol{A}_{x x}-\\frac{2}{h \\omega_{N}} \\boldsymbol{I}\\right] \\boldsymbol{x}_{k+1}+\\boldsymbol{A}_{x y} \\boldsymbol{y}_{k+1}=-\\frac{2}{h \\omega_{N}} \\boldsymbol{x}_{k}-\\frac{1}{\\omega_{N}} \\dot{\\boldsymbol{x}}_{k}-\\boldsymbol{u}_{x k+1}$$\n",
    "\n",
    "where $I$ is the unit matrix of same dimension as $x$.\n",
    "\n",
    "From the compact form, we also get:\n",
    "\n",
    "$$\\boldsymbol{A}_{y x} \\boldsymbol{x}_{k+1}+\\boldsymbol{A}_{y y} \\boldsymbol{y}_{k+1}=-\\boldsymbol{u}_{yk+1}$$\n",
    "\n",
    "Grouping the equations, the linear system to solve at each time step is:\n",
    "\n",
    "$$\\left[\\begin{array}{cc}\\boldsymbol{A}_{x x}-\\frac{2}{h \\omega_{N}} \\boldsymbol{I} & \\boldsymbol{A}_{x y} \\\\ \\boldsymbol{A}_{y x} & \\boldsymbol{A}_{y y}\\end{array}\\right]\\left[\\begin{array}{c}\\boldsymbol{x}_{k+1} \\\\ \\boldsymbol{y}_{k+1}\\end{array}\\right]=\\left[\\begin{array}{c}-\\frac{2}{h \\omega_{N}} \\boldsymbol{x}_{k}-\\frac{1}{\\omega_{N}} \\dot{\\boldsymbol{x}}_{k}-\\boldsymbol{u}_{x k+1} \\\\ -\\boldsymbol{u}_{y k+1}\\end{array}\\right]$$"
   ]
  },
  {
   "cell_type": "markdown",
   "id": "beneficial-haiti",
   "metadata": {},
   "source": [
    "## Case study\n",
    "\n",
    "### Network and machine data\n",
    "\n",
    "- $f_N=50$ Hz\n",
    "- $L_e=0.2$ pu, $R_e=0.01$ pu\n",
    "- $R_a=0.005$ pu\n",
    "- $L_{dd} = 2.4$ pu, $L_{df}=2.2$ pu, $L_{ff}=2.42$ pu\n",
    "- $L_{qq} = 2.4$ pu, $L_{qq1}=2.2$ pu, $L_{q1q1}=2.2512$ pu\n",
    "- $R_f = 0.0011$ pu, $R_{q1}=0.0239$ pu\n",
    "- $L_{00}=0.1$ pu\n",
    "\n",
    "\n",
    "### Initial operating point\n",
    "\n",
    "- $P=0.5$ pu\n",
    "- $Q=0.1$ pu\n",
    "- $\\underline{V}_a=1.0\\angle{0}$ pu\n",
    "\n",
    "### Simulation case study\n",
    "\n",
    "A three-phase short-circuit is simulated by setting E to zero at $t = 0.05$ s.\n",
    "\n",
    "### Important remarks\n",
    "\n",
    "The fault is not cleared in order to show the various time constants present in the current evolution.\n",
    "However, in practice:\n",
    "\n",
    "- the fault must be cleared fast enough, e.g. after $5 - 10$ cycles ($0.1 - 0.2$ s)\n",
    "- beyond that time, the model is no longer valid:\n",
    "  - rotor speed would not remain constant\n",
    "  - $v_f$ would be adjusted by the Automatic Voltage Regulator\n",
    "  - etc."
   ]
  },
  {
   "cell_type": "markdown",
   "id": "least-infrared",
   "metadata": {},
   "source": [
    "## Main simulation procedure\n",
    "\n",
    "### Linearization function\n",
    "\n",
    "The function linmodel defines the procedure to calculate the matrix $A$ of the model and the input vector $u$."
   ]
  },
  {
   "cell_type": "code",
   "execution_count": 1,
   "id": "selected-deficit",
   "metadata": {},
   "outputs": [],
   "source": [
    "function [A,u] = linmodel(t) \n",
    "\n",
    "global wN Re Le Ldd Ldf Lff Lqq Lqq1 Lq1q1 Loo Ra Rf Rq1 theta0 phasE Vf ;\n",
    "\n",
    "A=zeros(19,19) ;\n",
    "theta=theta0+wN*t ;\n",
    "\n",
    "A(1,1)  = -Re/Le ;   % d ia/dt\n",
    "A(1,4)  = 1/Le ;\n",
    "A(2,2)  = -Re/Le ;   % d ib/dt\n",
    "A(2,5)  = 1/Le ;\n",
    "A(3,3)  = -Re/Le ;   % d ic/dt\n",
    "A(3,6)  = 1/Le ;\n",
    "A(4,4)  = (sqrt(2)/3)*cos(theta) ;         % vd \n",
    "A(4,5)  = (sqrt(2)/3)*cos(theta-2*pi/3) ;\n",
    "A(4,6)  = (sqrt(2)/3)*cos(theta+2*pi/3) ;\n",
    "A(4,7)  = -1 ;\n",
    "A(5,4)  = (sqrt(2)/3)*sin(theta) ;         % vq \n",
    "A(5,5)  = (sqrt(2)/3)*sin(theta-2*pi/3) ;\n",
    "A(5,6)  = (sqrt(2)/3)*sin(theta+2*pi/3) ;\n",
    "A(5,8)  = -1 ; \n",
    "A(6,4)  = 1/3 ;                            % vo\n",
    "A(6,5)  = 1/3 ; \n",
    "A(6,6)  = 1/3 ; \n",
    "A(6,9)  = -1 ;\n",
    "A(7,1)  = (sqrt(2)/3)*cos(theta) ;         % id \n",
    "A(7,2)  = (sqrt(2)/3)*cos(theta-2*pi/3) ;\n",
    "A(7,3)  = (sqrt(2)/3)*cos(theta+2*pi/3) ;\n",
    "A(7,10) = -1 ;\n",
    "A(8,1)  = (sqrt(2)/3)*sin(theta) ;         % iq \n",
    "A(8,2)  = (sqrt(2)/3)*sin(theta-2*pi/3) ;\n",
    "A(8,3)  = (sqrt(2)/3)*sin(theta+2*pi/3) ;\n",
    "A(8,11) = -1 ; \n",
    "A(9,1)  = 1/3 ;     % io\n",
    "A(9,2)  = 1/3 ; \n",
    "A(9,3)  = 1/3 ;\n",
    "A(9,12) = -1 ;\n",
    "A(10,10)= Ldd ;     % psid\n",
    "A(10,13)= Ldf ;\n",
    "A(10,15)= -1 ;\n",
    "A(11,11)= Lqq ;     % psiq\n",
    "A(11,14)= Lqq1 ;\n",
    "A(11,16)= -1 ; \n",
    "A(12,13)= Lff ;     % psif\n",
    "A(12,10)= Ldf ;\n",
    "A(12,17)= -1 ;\n",
    "A(13,14)= Lq1q1 ;   % psiq1\n",
    "A(13,11)= Lqq1 ;\n",
    "A(13,18)= -1 ;\n",
    "A(14,12)= Loo ;     % psio\n",
    "A(14,19)= -1 ;\n",
    "A(15,16)= -1 ;      % d psid/dt\n",
    "A(15,7) = -1 ;\n",
    "A(15,10)= -Ra ;\n",
    "A(16,15)=  1 ;      % d psiq/dt\n",
    "A(16,8) = -1 ;\n",
    "A(16,11)= -Ra ;\n",
    "A(17,13)= -Rf ;     % d psif/dt\n",
    "A(18,14)= -Rq1 ;    % d psiq1/dt\n",
    "A(19,12)= -Ra ;     % d psio/dt\n",
    "A(19,9) = -1 ;\n",
    "\n",
    "% Short-circuit application on the terminals of the sync. machine\n",
    "if t<= 0.05  || t>= 99\n",
    "    ea=sqrt(2)*abs(phasE)*cos(wN*t+angle(phasE)) ;\n",
    "    eb=sqrt(2)*abs(phasE)*cos(wN*t+angle(phasE)-2*pi/3) ;\n",
    "    ec=sqrt(2)*abs(phasE)*cos(wN*t+angle(phasE)+2*pi/3) ;\n",
    "else\n",
    "    ea=0. ;\n",
    "    eb=0. ;\n",
    "    ec=0. ;\n",
    "end\n",
    "\n",
    "u= [ -ea/Le -eb/Le -ec/Le 0 0 0 0 0 0 0 0 0 0 0 0 0 Vf 0 0]' ; % Output vector u\n",
    "\n",
    "endfunction"
   ]
  },
  {
   "cell_type": "markdown",
   "id": "loaded-wednesday",
   "metadata": {},
   "source": [
    "### Simulation procedure\n",
    "\n",
    "Below is the main simulation procedure:"
   ]
  },
  {
   "cell_type": "code",
   "execution_count": 2,
   "id": "false-mapping",
   "metadata": {},
   "outputs": [],
   "source": [
    "global wN Re Le Ldd Ldf Lff Lqq Lqq1 Lq1q1 Loo Ra Rf Rq1 theta0 phasE Vf ;\n",
    "\n",
    "j=sqrt(-1) ;\n",
    "\n",
    "% --------------- DATA ---------------\n",
    "% network and operating point\n",
    "% P and Q are in per unit on a single-phase base power (three-phase model)\n",
    "\n",
    "Xe=0.20 ;\n",
    "Re=0.01 ;\n",
    "P=0.5 ;\n",
    "Q=0.1 ;\n",
    "V=1 ;\n",
    "\n",
    "% machine parameters\n",
    "\n",
    "Ra=0.005 ;\n",
    "Xd=2.4 ;\n",
    "Xq=2.4 ;\n",
    "Xl=0.2 ;\n",
    "Xpd=0.40 ;\n",
    "Xpq=0.25 ;\n",
    "Loo=0.1 ;\n",
    "fN=50. ;\n",
    "Tpdo_s=7. ;\n",
    "Tpqo_s=0.3 ;\n",
    "\n",
    "% time step size and simulation interval\n",
    "\n",
    "h= 100e-06 ;\n",
    "Tsim= 3 ;\n",
    "\n",
    "% -------------- END OF DATA --------------\n",
    "\n",
    "% derived parameters\n",
    "\n",
    "wN=2*pi*fN ;\n",
    "TB=1/(2*pi*fN) ;\n",
    "Le=Xe ;\n",
    "Ldd=Xd ;\n",
    "Ldf=Xd-Xl ;\n",
    "Lff=Ldf^2/(Xd-Xpd) ;\n",
    "Tpdo=Tpdo_s/TB ;\n",
    "Rf=Lff/Tpdo ;\n",
    "Lqq=Xq ;\n",
    "Lqq1=Xq-Xl ;\n",
    "Lq1q1=Lqq1^2/(Xq-Xpq) ;\n",
    "Tpqo=Tpqo_s/TB ;\n",
    "Rq1=Lq1q1/Tpqo ;\n",
    "\n",
    "% allocate space to store trajectory\n",
    "\n",
    "nbsteps=ceil(Tsim/h) ;\n",
    "time=zeros(1,nbsteps+1) ;\n",
    "xhist=zeros(17,nbsteps+1) ;\n",
    "\n",
    "% initialization of state variables\n",
    "\n",
    "phasI=(P-j*Q)/V ;             % network voltages and currents\n",
    "va=sqrt(2)*V ;\n",
    "vb=sqrt(2)*V*cos(-2*pi/3) ;\n",
    "vc=sqrt(2)*V*cos( 2*pi/3) ;\n",
    "ia=sqrt(2)*abs(phasI)*cos(angle(phasI)) ;\n",
    "ib=sqrt(2)*abs(phasI)*cos(angle(phasI)-2*pi/3) ;\n",
    "ic=sqrt(2)*abs(phasI)*cos(angle(phasI)+2*pi/3) ;\n",
    "phasE=V-(Re+j*Xe)*phasI ;\n",
    "\n",
    "phi=angle(V+Ra*phasI+j*Xq*phasI);     % machine\n",
    "theta0=phi+pi/2 ;\n",
    "\n",
    "id=(sqrt(2)/3)*(cos(theta0)*ia+cos(theta0-2*pi/3)*ib+cos(theta0+2*pi/3)*ic) ;\n",
    "iq=(sqrt(2)/3)*(sin(theta0)*ia+sin(theta0-2*pi/3)*ib+sin(theta0+2*pi/3)*ic) ;\n",
    "io=0 ;\n",
    "vd=(sqrt(2)/3)*(cos(theta0)*va+cos(theta0-2*pi/3)*vb+cos(theta0+2*pi/3)*vc) ;\n",
    "vq=(sqrt(2)/3)*(sin(theta0)*va+sin(theta0-2*pi/3)*vb+sin(theta0+2*pi/3)*vc) ;\n",
    "vo=0 ;\n",
    "\n",
    "psid= vq+Ra*iq ;\n",
    "psiq=-vd-Ra*id ;\n",
    "psio=0 ;\n",
    "ifd=(psid-Ldd*id)/Ldf ;\n",
    "psif=Lff*ifd+Ldf*id ;\n",
    "Vf=Rf*ifd ;\n",
    "iq1=0 ;\n",
    "psiq1=Lqq1*iq ;\n",
    "\n",
    "% identify differential and algebraic states\n",
    "% note: the i-th differential equation is  d x(i)/dt = ...\n",
    "\n",
    "dif= [1 2 3 15 16 17 18 19] ;\n",
    "alg= [4 5 6 7 8 9 10 11 12 13 14] ;\n",
    "\n",
    "% initialisation of integration\n",
    "\n",
    "time(1)=0 ;\n",
    "%  1  2  3  4  5  6  7  8  9  10 11 12 13  14  15    16   17    18   19\n",
    "x=[ia ib ic va vb vc vd vq vo id iq io ifd iq1 psid psiq psif psiq1 psio]' ; \n",
    "xhist(1:19,1)=x ;\n",
    "\n",
    "[A,u]=linmodel(0) ;\n",
    "\n",
    "% integration method\n",
    "\n",
    "for k=1:nbsteps\n",
    "    c= A*x + u ;  \n",
    "    \n",
    "    t=k*h ;\n",
    "    time(k+1)=t ;\n",
    "    \n",
    "    [A,u]=linmodel(t) ;\n",
    "    \n",
    "    b= -u ;\n",
    "    b(dif)= b(dif)- (2/h/wN)*x(dif) - c(dif) ;\n",
    "    \n",
    "    M= A;\n",
    "    M(dif,dif)= M(dif,dif) - (2/h/wN)*eye(size(dif,2)) ;\n",
    "    x= M\\b ;\n",
    "    xhist(1:19,k+1)=x ;\n",
    "    \n",
    "end"
   ]
  },
  {
   "cell_type": "markdown",
   "id": "unlike-recognition",
   "metadata": {},
   "source": [
    "## Analysis of results and discussion\n",
    "\n",
    "### Voltage on phase a\n",
    "\n",
    "- decrease of AC voltage magnitude under the effect of the fault\n",
    "- presence of a residual voltage due to some emf inside the generator\n",
    "- remark:\n",
    "  - such an emf does not exist in generators connected to the network through power electronic interfaces (dispersed generation in MV distribution grid)\n",
    "  - the latter do not participate to the short-circuit capacity!"
   ]
  },
  {
   "cell_type": "code",
   "execution_count": 3,
   "id": "twelve-jason",
   "metadata": {},
   "outputs": [
    {
     "data": {
      "image/png": "[encoded data removed]",
      "text/plain": [
       "<IPython.core.display.Image object>"
      ]
     },
     "metadata": {},
     "output_type": "display_data"
    }
   ],
   "source": [
    "plot(time(1:4000),xhist(4,1:4000))"
   ]
  },
  {
   "cell_type": "markdown",
   "id": "improved-magnitude",
   "metadata": {},
   "source": [
    "### Current on phase a\n",
    "\n",
    "- increase of amplitude of alternating current under the effect of the fault\n",
    "- the envelop of the current wave varies with time (more details in the sequel)\n",
    "- presence of a small aperiodic or unidirectional or DC component\n",
    "  - typical of transients in an RL circuit due to switchings\n",
    "  - much more visible in the other two phases"
   ]
  },
  {
   "cell_type": "code",
   "execution_count": 4,
   "id": "consistent-cemetery",
   "metadata": {},
   "outputs": [
    {
     "data": {
      "image/png": "[encoded data removed]",
      "text/plain": [
       "<IPython.core.display.Image object>"
      ]
     },
     "metadata": {},
     "output_type": "display_data"
    }
   ],
   "source": [
    "plot(time(1:4000),xhist(1,1:4000))"
   ]
  },
  {
   "cell_type": "markdown",
   "id": "faced-profile",
   "metadata": {},
   "source": [
    "### Current on phases b and c\n",
    "\n",
    "- the magnitude of the aperiodic components decrease with a time constant $\\approxeq$ 0.15 s (in this example)\n",
    "- the aperiodic components are not the same in all three phases, because the rotor is not in the same position with respect to each stator winding\n",
    "- once they have vanished, the three phase currents become again sinusoidal and balanced"
   ]
  },
  {
   "cell_type": "code",
   "execution_count": 5,
   "id": "related-aluminum",
   "metadata": {},
   "outputs": [
    {
     "data": {
      "image/png": "[encoded data removed]",
      "text/plain": [
       "<IPython.core.display.Image object>"
      ]
     },
     "metadata": {},
     "output_type": "display_data"
    }
   ],
   "source": [
    "plot(time(1:4000),xhist(2,1:4000))\n",
    "hold on\n",
    "plot(time(1:4000),xhist(3,1:4000))"
   ]
  },
  {
   "cell_type": "markdown",
   "id": "convinced-latin",
   "metadata": {},
   "source": [
    "### Current on phase a -- long-term\n",
    "\n",
    "- the magnitude of the alternating component of ia shows two time constants:\n",
    "  - a short one, lasting a few cycles, resulting in a slightly higher initial amplitude of the current: caused by damper winding q1\n",
    "  - a much longer one ($\\approxeq$ 1.5 s in this example): caused by field winding f\n",
    "- the current that the breakers have to interrupt is much higher than the one which would prevail in steady-state!\n",
    "- the machine behaves initially as if it had a smaller internal reactance"
   ]
  },
  {
   "cell_type": "code",
   "execution_count": 6,
   "id": "vertical-breast",
   "metadata": {},
   "outputs": [
    {
     "data": {
      "image/png": "[encoded data removed]",
      "text/plain": [
       "<IPython.core.display.Image object>"
      ]
     },
     "metadata": {},
     "output_type": "display_data"
    }
   ],
   "source": [
    "plot(time,xhist(1,:))"
   ]
  },
  {
   "cell_type": "markdown",
   "id": "incident-selection",
   "metadata": {},
   "source": [
    "### Magnetic fields\n",
    "\n",
    "The alternating components of the stator currents $i_a$, $i_b$ and $i_c$\n",
    "- are shifted by $\\pm 2\\pi/3$ rad. They create a magnetic field $H_{AC}$ which rotates at the angular speed $\\omega_N$\n",
    "- this field is fixed with respect to the rotor windings\n",
    "- under the effect of the fault, the amplitude if $i_a$, $i_b$ and $i_c$ increases significantly. So does the magnetic field $H_{AC}$\n",
    "- this induces aperiodic current components in the rotor windings.\n",
    "\n",
    "The aperiodic components of the stator currents $i_a$, $i_b$ and $i_c$\n",
    "- create a magnetic field $H_{AC}$ which is fixed with respect to the stator\n",
    "- hence it rotates at angular speed $\\omega_N$ with respect to the rotor windings\n",
    "- this induces alternating components of angular frequency $\\omega_N$ in the rotor windings"
   ]
  },
  {
   "cell_type": "markdown",
   "id": "bulgarian-centre",
   "metadata": {},
   "source": [
    "### Field winding flux\n",
    "\n",
    "- the flux $\\psi_f$ in the field winding changes very little in spite of the large increase of stator currents!\n",
    "- large \"magnetic inertia\" due to the long time constant $L_{ff}/R_f$ (= 7 s in this example)"
   ]
  },
  {
   "cell_type": "code",
   "execution_count": 7,
   "id": "historical-reproduction",
   "metadata": {},
   "outputs": [
    {
     "data": {
      "image/png": "[encoded data removed]",
      "text/plain": [
       "<IPython.core.display.Image object>"
      ]
     },
     "metadata": {},
     "output_type": "display_data"
    }
   ],
   "source": [
    "plot(time(1:4000),xhist(17,1:4000))"
   ]
  },
  {
   "cell_type": "markdown",
   "id": "younger-albert",
   "metadata": {},
   "source": [
    "### Field current\n",
    "\n",
    "- Lenz law: additional current components appear in the field winding in order to keep $\\psi_f$ (almost) constant\n",
    "- the oscillatory component is due to the magnetic field $H_{DC}$\n",
    "  - check: time constant of decay = time constant of aperiodic component of stator currents ≃ 0.15 s\n",
    "- the aperiodic component is due to the magnetic field $H_{AC}$\n",
    "  - time constant ≃ 1.5 s"
   ]
  },
  {
   "cell_type": "code",
   "execution_count": 8,
   "id": "atomic-transsexual",
   "metadata": {},
   "outputs": [
    {
     "data": {
      "image/png": "[encoded data removed]",
      "text/plain": [
       "<IPython.core.display.Image object>"
      ]
     },
     "metadata": {},
     "output_type": "display_data"
    }
   ],
   "source": [
    "plot(time(1:4000),xhist(13,1:4000))"
   ]
  },
  {
   "cell_type": "markdown",
   "id": "shared-biodiversity",
   "metadata": {},
   "source": [
    "### Flux in damper winding $q1$\n",
    "\n",
    "- the flux in the damper winding $q1$ is comparatively more \"volatile\"\n",
    "- indeed, the field and the damper windings are constructively very different: field coil vs. damper bars in rotor slots"
   ]
  },
  {
   "cell_type": "code",
   "execution_count": 9,
   "id": "respected-response",
   "metadata": {},
   "outputs": [
    {
     "data": {
      "image/png": "[encoded data removed]",
      "text/plain": [
       "<IPython.core.display.Image object>"
      ]
     },
     "metadata": {},
     "output_type": "display_data"
    }
   ],
   "source": [
    "plot(time(1:4000),xhist(18,1:4000))"
   ]
  },
  {
   "cell_type": "markdown",
   "id": "geological-powder",
   "metadata": {},
   "source": [
    "### Current in damper winding $q1$\n",
    "\n",
    "- the damper current $i_{q1}$ has a zero initial (and final) value\n",
    "- the oscillatory component is due to the magnetic field $H_{DC}$\n",
    "- the aperiodic component decreases much faster than the aperiodic component of $i_f$\n",
    "- it corresponds to the initial, fast decaying, increment of the stator current amplitude"
   ]
  },
  {
   "cell_type": "code",
   "execution_count": 10,
   "id": "monthly-concept",
   "metadata": {},
   "outputs": [
    {
     "data": {
      "image/png": "[encoded data removed]",
      "text/plain": [
       "<IPython.core.display.Image object>"
      ]
     },
     "metadata": {},
     "output_type": "display_data"
    }
   ],
   "source": [
    "plot(time(1:4000),xhist(14,1:4000))"
   ]
  },
  {
   "cell_type": "markdown",
   "id": "civilian-reduction",
   "metadata": {},
   "source": [
    "### Currents $i_d$ and $i_q$\n",
    "\n",
    "- the oscillatory component of $i_d$ (resp. $i_q$) corresponds to the oscillatory component of $i_f$ (resp. $i_{q1}$) which lies on the same axis\n",
    "- it can be shown that $i_q$ goes to almost zero due to the predominantly inductive nature of the short-circuit\n",
    "- the aperiodic component of $i_d$ evolves with the long time constant observed for the aperiodic component of $i_f$"
   ]
  },
  {
   "cell_type": "code",
   "execution_count": 11,
   "id": "personalized-theology",
   "metadata": {},
   "outputs": [
    {
     "data": {
      "image/png": "[encoded data removed]",
      "text/plain": [
       "<IPython.core.display.Image object>"
      ]
     },
     "metadata": {},
     "output_type": "display_data"
    }
   ],
   "source": [
    "plot(time(:),xhist(10,:))\n",
    "hold on\n",
    "plot(time(:),xhist(11,:))"
   ]
  },
  {
   "cell_type": "markdown",
   "id": "balanced-bangladesh",
   "metadata": {},
   "source": [
    "### Currents $\\psi_d$ and $\\psi_q$\n",
    "\n",
    "- fluxes $\\psi_d$ and $\\psi_q$ in Park windings vary comparatively much faster\n",
    "- since $i_q$ and $i_{q1}$ tend to zero, so does $\\psi_q$"
   ]
  },
  {
   "cell_type": "code",
   "execution_count": 12,
   "id": "vocal-sussex",
   "metadata": {},
   "outputs": [
    {
     "data": {
      "image/png": "[encoded data removed]",
      "text/plain": [
       "<IPython.core.display.Image object>"
      ]
     },
     "metadata": {},
     "output_type": "display_data"
    }
   ],
   "source": [
    "plot(time(1:4000),xhist(15,1:4000))\n",
    "hold on\n",
    "plot(time(1:4000),xhist(16,1:4000))"
   ]
  },
  {
   "cell_type": "code",
   "execution_count": null,
   "id": "fewer-plain",
   "metadata": {},
   "outputs": [],
   "source": []
  }
 ],
 "metadata": {
  "kernelspec": {
   "display_name": "Octave",
   "language": "octave",
   "name": "octave"
  },
  "language_info": {
   "file_extension": ".m",
   "help_links": [
    {
     "text": "GNU Octave",
     "url": "https://www.gnu.org/software/octave/support.html"
    },
    {
     "text": "Octave Kernel",
     "url": "https://github.com/Calysto/octave_kernel"
    },
    {
     "text": "MetaKernel Magics",
     "url": "https://metakernel.readthedocs.io/en/latest/source/README.html"
    }
   ],
   "mimetype": "text/x-octave",
   "name": "octave",
   "version": "5.2.0"
  }
 },
 "nbformat": 4,
 "nbformat_minor": 5
}
